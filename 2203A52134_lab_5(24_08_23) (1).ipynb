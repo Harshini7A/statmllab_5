{
  "nbformat": 4,
  "nbformat_minor": 0,
  "metadata": {
    "colab": {
      "provenance": []
    },
    "kernelspec": {
      "name": "python3",
      "display_name": "Python 3"
    },
    "language_info": {
      "name": "python"
    }
  },
  "cells": [
    {
      "cell_type": "code",
      "execution_count": null,
      "metadata": {
        "colab": {
          "base_uri": "https://localhost:8080/"
        },
        "id": "1GCO4Nqri2Ea",
        "outputId": "ed208e52-fef7-4a44-eb02-103d021fe4fb"
      },
      "outputs": [
        {
          "output_type": "stream",
          "name": "stdout",
          "text": [
            "     Age  Gender  Protein1  Protein2  Protein3  Protein4 Tumour_Stage  \\\n",
            "0     42  FEMALE  0.952560   2.15000  0.007972 -0.048340           II   \n",
            "1     54  FEMALE  0.000000   1.38020 -0.498030 -0.507320           II   \n",
            "2     63  FEMALE -0.523030   1.76400 -0.370190  0.010815           II   \n",
            "3     78  FEMALE -0.876180   0.12943 -0.370380  0.132190            I   \n",
            "4     42  FEMALE  0.226110   1.74910 -0.543970 -0.390210           II   \n",
            "..   ...     ...       ...       ...       ...       ...          ...   \n",
            "329   59  FEMALE  0.024598   1.40050  0.024751  0.280320           II   \n",
            "330   41  FEMALE  0.100120  -0.46547  0.472370 -0.523870            I   \n",
            "331   54  FEMALE  0.753820   1.64250 -0.332850  0.857860           II   \n",
            "332   74  FEMALE  0.972510   1.42680 -0.366570 -0.107820           II   \n",
            "333   66  FEMALE  0.286380   1.39980  0.318830  0.836050           II   \n",
            "\n",
            "                          Histology ER status PR status HER2 status  \\\n",
            "0     Infiltrating Ductal Carcinoma  Positive  Positive    Negative   \n",
            "1     Infiltrating Ductal Carcinoma  Positive  Positive    Negative   \n",
            "2     Infiltrating Ductal Carcinoma  Positive  Positive    Negative   \n",
            "3     Infiltrating Ductal Carcinoma  Positive  Positive    Negative   \n",
            "4     Infiltrating Ductal Carcinoma  Positive  Positive    Positive   \n",
            "..                              ...       ...       ...         ...   \n",
            "329   Infiltrating Ductal Carcinoma  Positive  Positive    Positive   \n",
            "330   Infiltrating Ductal Carcinoma  Positive  Positive    Positive   \n",
            "331   Infiltrating Ductal Carcinoma  Positive  Positive    Negative   \n",
            "332  Infiltrating Lobular Carcinoma  Positive  Positive    Negative   \n",
            "333   Infiltrating Ductal Carcinoma  Positive  Positive    Negative   \n",
            "\n",
            "                    Surgery_type Date_of_Surgery Date_of_Last_Visit  \\\n",
            "0                          Other       20-May-18          26-Aug-18   \n",
            "1                          Other       26-Apr-18          25-Jan-19   \n",
            "2                     Lumpectomy       24-Aug-18          08-Apr-20   \n",
            "3                          Other       16-Nov-18          28-Jul-20   \n",
            "4                     Lumpectomy       12-Dec-18          05-Jan-19   \n",
            "..                           ...             ...                ...   \n",
            "329                   Lumpectomy       15-Jan-19          27-Mar-20   \n",
            "330  Modified Radical Mastectomy       25-Jul-18          23-Apr-19   \n",
            "331            Simple Mastectomy       26-Mar-19          11-Oct-19   \n",
            "332                   Lumpectomy       26-Nov-18          05-Dec-18   \n",
            "333  Modified Radical Mastectomy       04-Feb-19          10-Aug-19   \n",
            "\n",
            "    Patient_Status  \n",
            "0            Alive  \n",
            "1             Dead  \n",
            "2            Alive  \n",
            "3            Alive  \n",
            "4            Alive  \n",
            "..             ...  \n",
            "329          Alive  \n",
            "330          Alive  \n",
            "331           Dead  \n",
            "332          Alive  \n",
            "333           Dead  \n",
            "\n",
            "[334 rows x 15 columns]\n"
          ]
        }
      ],
      "source": [
        "import pandas as pd\n",
        "a=pd.read_csv('/content/breast_cancer_survival.csv')\n",
        "print(a)"
      ]
    },
    {
      "cell_type": "code",
      "source": [
        "a=a.drop('Date_of_Last_Visit',axis=1)\n",
        "print(a)"
      ],
      "metadata": {
        "colab": {
          "base_uri": "https://localhost:8080/"
        },
        "id": "N4vUQ3N8jHy6",
        "outputId": "344c56e9-fbe1-4e57-c743-a96445aba132"
      },
      "execution_count": null,
      "outputs": [
        {
          "output_type": "stream",
          "name": "stdout",
          "text": [
            "     Age  Gender  Protein1  Protein2  Protein3  Protein4 Tumour_Stage  \\\n",
            "0     42  FEMALE  0.952560   2.15000  0.007972 -0.048340           II   \n",
            "1     54  FEMALE  0.000000   1.38020 -0.498030 -0.507320           II   \n",
            "2     63  FEMALE -0.523030   1.76400 -0.370190  0.010815           II   \n",
            "3     78  FEMALE -0.876180   0.12943 -0.370380  0.132190            I   \n",
            "4     42  FEMALE  0.226110   1.74910 -0.543970 -0.390210           II   \n",
            "..   ...     ...       ...       ...       ...       ...          ...   \n",
            "329   59  FEMALE  0.024598   1.40050  0.024751  0.280320           II   \n",
            "330   41  FEMALE  0.100120  -0.46547  0.472370 -0.523870            I   \n",
            "331   54  FEMALE  0.753820   1.64250 -0.332850  0.857860           II   \n",
            "332   74  FEMALE  0.972510   1.42680 -0.366570 -0.107820           II   \n",
            "333   66  FEMALE  0.286380   1.39980  0.318830  0.836050           II   \n",
            "\n",
            "                          Histology ER status PR status HER2 status  \\\n",
            "0     Infiltrating Ductal Carcinoma  Positive  Positive    Negative   \n",
            "1     Infiltrating Ductal Carcinoma  Positive  Positive    Negative   \n",
            "2     Infiltrating Ductal Carcinoma  Positive  Positive    Negative   \n",
            "3     Infiltrating Ductal Carcinoma  Positive  Positive    Negative   \n",
            "4     Infiltrating Ductal Carcinoma  Positive  Positive    Positive   \n",
            "..                              ...       ...       ...         ...   \n",
            "329   Infiltrating Ductal Carcinoma  Positive  Positive    Positive   \n",
            "330   Infiltrating Ductal Carcinoma  Positive  Positive    Positive   \n",
            "331   Infiltrating Ductal Carcinoma  Positive  Positive    Negative   \n",
            "332  Infiltrating Lobular Carcinoma  Positive  Positive    Negative   \n",
            "333   Infiltrating Ductal Carcinoma  Positive  Positive    Negative   \n",
            "\n",
            "                    Surgery_type Date_of_Surgery Patient_Status  \n",
            "0                          Other       20-May-18          Alive  \n",
            "1                          Other       26-Apr-18           Dead  \n",
            "2                     Lumpectomy       24-Aug-18          Alive  \n",
            "3                          Other       16-Nov-18          Alive  \n",
            "4                     Lumpectomy       12-Dec-18          Alive  \n",
            "..                           ...             ...            ...  \n",
            "329                   Lumpectomy       15-Jan-19          Alive  \n",
            "330  Modified Radical Mastectomy       25-Jul-18          Alive  \n",
            "331            Simple Mastectomy       26-Mar-19           Dead  \n",
            "332                   Lumpectomy       26-Nov-18          Alive  \n",
            "333  Modified Radical Mastectomy       04-Feb-19           Dead  \n",
            "\n",
            "[334 rows x 14 columns]\n"
          ]
        }
      ]
    },
    {
      "cell_type": "code",
      "source": [
        "a=a.drop('Date_of_Surgery',axis=1)\n",
        "print(a)"
      ],
      "metadata": {
        "colab": {
          "base_uri": "https://localhost:8080/"
        },
        "id": "8B2FCe20kzIe",
        "outputId": "c5a67cf4-968f-4297-eaef-5bc87cad9130"
      },
      "execution_count": null,
      "outputs": [
        {
          "output_type": "stream",
          "name": "stdout",
          "text": [
            "     Age  Gender  Protein1  Protein2  Protein3  Protein4 Tumour_Stage  \\\n",
            "0     42  FEMALE  0.952560   2.15000  0.007972 -0.048340           II   \n",
            "1     54  FEMALE  0.000000   1.38020 -0.498030 -0.507320           II   \n",
            "2     63  FEMALE -0.523030   1.76400 -0.370190  0.010815           II   \n",
            "3     78  FEMALE -0.876180   0.12943 -0.370380  0.132190            I   \n",
            "4     42  FEMALE  0.226110   1.74910 -0.543970 -0.390210           II   \n",
            "..   ...     ...       ...       ...       ...       ...          ...   \n",
            "329   59  FEMALE  0.024598   1.40050  0.024751  0.280320           II   \n",
            "330   41  FEMALE  0.100120  -0.46547  0.472370 -0.523870            I   \n",
            "331   54  FEMALE  0.753820   1.64250 -0.332850  0.857860           II   \n",
            "332   74  FEMALE  0.972510   1.42680 -0.366570 -0.107820           II   \n",
            "333   66  FEMALE  0.286380   1.39980  0.318830  0.836050           II   \n",
            "\n",
            "                          Histology ER status PR status HER2 status  \\\n",
            "0     Infiltrating Ductal Carcinoma  Positive  Positive    Negative   \n",
            "1     Infiltrating Ductal Carcinoma  Positive  Positive    Negative   \n",
            "2     Infiltrating Ductal Carcinoma  Positive  Positive    Negative   \n",
            "3     Infiltrating Ductal Carcinoma  Positive  Positive    Negative   \n",
            "4     Infiltrating Ductal Carcinoma  Positive  Positive    Positive   \n",
            "..                              ...       ...       ...         ...   \n",
            "329   Infiltrating Ductal Carcinoma  Positive  Positive    Positive   \n",
            "330   Infiltrating Ductal Carcinoma  Positive  Positive    Positive   \n",
            "331   Infiltrating Ductal Carcinoma  Positive  Positive    Negative   \n",
            "332  Infiltrating Lobular Carcinoma  Positive  Positive    Negative   \n",
            "333   Infiltrating Ductal Carcinoma  Positive  Positive    Negative   \n",
            "\n",
            "                    Surgery_type Patient_Status  \n",
            "0                          Other          Alive  \n",
            "1                          Other           Dead  \n",
            "2                     Lumpectomy          Alive  \n",
            "3                          Other          Alive  \n",
            "4                     Lumpectomy          Alive  \n",
            "..                           ...            ...  \n",
            "329                   Lumpectomy          Alive  \n",
            "330  Modified Radical Mastectomy          Alive  \n",
            "331            Simple Mastectomy           Dead  \n",
            "332                   Lumpectomy          Alive  \n",
            "333  Modified Radical Mastectomy           Dead  \n",
            "\n",
            "[334 rows x 13 columns]\n"
          ]
        }
      ]
    },
    {
      "cell_type": "code",
      "source": [
        "a=a.drop('Surgery_type',axis=1)\n",
        "print(a)"
      ],
      "metadata": {
        "colab": {
          "base_uri": "https://localhost:8080/"
        },
        "id": "1ta553URlz-t",
        "outputId": "459e559c-d1a1-4c02-c00d-9aa7cf455c26"
      },
      "execution_count": null,
      "outputs": [
        {
          "output_type": "stream",
          "name": "stdout",
          "text": [
            "     Age  Gender  Protein1  Protein2  Protein3  Protein4 Tumour_Stage  \\\n",
            "0     42  FEMALE  0.952560   2.15000  0.007972 -0.048340           II   \n",
            "1     54  FEMALE  0.000000   1.38020 -0.498030 -0.507320           II   \n",
            "2     63  FEMALE -0.523030   1.76400 -0.370190  0.010815           II   \n",
            "3     78  FEMALE -0.876180   0.12943 -0.370380  0.132190            I   \n",
            "4     42  FEMALE  0.226110   1.74910 -0.543970 -0.390210           II   \n",
            "..   ...     ...       ...       ...       ...       ...          ...   \n",
            "329   59  FEMALE  0.024598   1.40050  0.024751  0.280320           II   \n",
            "330   41  FEMALE  0.100120  -0.46547  0.472370 -0.523870            I   \n",
            "331   54  FEMALE  0.753820   1.64250 -0.332850  0.857860           II   \n",
            "332   74  FEMALE  0.972510   1.42680 -0.366570 -0.107820           II   \n",
            "333   66  FEMALE  0.286380   1.39980  0.318830  0.836050           II   \n",
            "\n",
            "                          Histology ER status PR status HER2 status  \\\n",
            "0     Infiltrating Ductal Carcinoma  Positive  Positive    Negative   \n",
            "1     Infiltrating Ductal Carcinoma  Positive  Positive    Negative   \n",
            "2     Infiltrating Ductal Carcinoma  Positive  Positive    Negative   \n",
            "3     Infiltrating Ductal Carcinoma  Positive  Positive    Negative   \n",
            "4     Infiltrating Ductal Carcinoma  Positive  Positive    Positive   \n",
            "..                              ...       ...       ...         ...   \n",
            "329   Infiltrating Ductal Carcinoma  Positive  Positive    Positive   \n",
            "330   Infiltrating Ductal Carcinoma  Positive  Positive    Positive   \n",
            "331   Infiltrating Ductal Carcinoma  Positive  Positive    Negative   \n",
            "332  Infiltrating Lobular Carcinoma  Positive  Positive    Negative   \n",
            "333   Infiltrating Ductal Carcinoma  Positive  Positive    Negative   \n",
            "\n",
            "    Patient_Status  \n",
            "0            Alive  \n",
            "1             Dead  \n",
            "2            Alive  \n",
            "3            Alive  \n",
            "4            Alive  \n",
            "..             ...  \n",
            "329          Alive  \n",
            "330          Alive  \n",
            "331           Dead  \n",
            "332          Alive  \n",
            "333           Dead  \n",
            "\n",
            "[334 rows x 12 columns]\n"
          ]
        }
      ]
    },
    {
      "cell_type": "code",
      "source": [
        "x=a['Patient_Status']\n",
        "print(x)"
      ],
      "metadata": {
        "colab": {
          "base_uri": "https://localhost:8080/"
        },
        "id": "rsRbFOWPl-0Q",
        "outputId": "120328d8-c32c-4ca5-89ab-ac74895ae5fc"
      },
      "execution_count": null,
      "outputs": [
        {
          "output_type": "stream",
          "name": "stdout",
          "text": [
            "0      Alive\n",
            "1       Dead\n",
            "2      Alive\n",
            "3      Alive\n",
            "4      Alive\n",
            "       ...  \n",
            "329    Alive\n",
            "330    Alive\n",
            "331     Dead\n",
            "332    Alive\n",
            "333     Dead\n",
            "Name: Patient_Status, Length: 334, dtype: object\n"
          ]
        }
      ]
    },
    {
      "cell_type": "code",
      "source": [
        "a['HER2 status']=a['HER2 status'].replace({'positives':1,'negatives':0})\n",
        "print(a)"
      ],
      "metadata": {
        "colab": {
          "base_uri": "https://localhost:8080/"
        },
        "id": "sF_Nalb9nSXF",
        "outputId": "527355fb-69dd-4723-d3ca-881caa1b09ea"
      },
      "execution_count": null,
      "outputs": [
        {
          "output_type": "stream",
          "name": "stdout",
          "text": [
            "     Age  Gender  Protein1  Protein2  Protein3  Protein4 Tumour_Stage  \\\n",
            "0     42  FEMALE  0.952560   2.15000  0.007972 -0.048340           II   \n",
            "1     54  FEMALE  0.000000   1.38020 -0.498030 -0.507320           II   \n",
            "2     63  FEMALE -0.523030   1.76400 -0.370190  0.010815           II   \n",
            "3     78  FEMALE -0.876180   0.12943 -0.370380  0.132190            I   \n",
            "4     42  FEMALE  0.226110   1.74910 -0.543970 -0.390210           II   \n",
            "..   ...     ...       ...       ...       ...       ...          ...   \n",
            "329   59  FEMALE  0.024598   1.40050  0.024751  0.280320           II   \n",
            "330   41  FEMALE  0.100120  -0.46547  0.472370 -0.523870            I   \n",
            "331   54  FEMALE  0.753820   1.64250 -0.332850  0.857860           II   \n",
            "332   74  FEMALE  0.972510   1.42680 -0.366570 -0.107820           II   \n",
            "333   66  FEMALE  0.286380   1.39980  0.318830  0.836050           II   \n",
            "\n",
            "                          Histology ER status PR status HER2 status  \\\n",
            "0     Infiltrating Ductal Carcinoma  Positive  Positive    Negative   \n",
            "1     Infiltrating Ductal Carcinoma  Positive  Positive    Negative   \n",
            "2     Infiltrating Ductal Carcinoma  Positive  Positive    Negative   \n",
            "3     Infiltrating Ductal Carcinoma  Positive  Positive    Negative   \n",
            "4     Infiltrating Ductal Carcinoma  Positive  Positive    Positive   \n",
            "..                              ...       ...       ...         ...   \n",
            "329   Infiltrating Ductal Carcinoma  Positive  Positive    Positive   \n",
            "330   Infiltrating Ductal Carcinoma  Positive  Positive    Positive   \n",
            "331   Infiltrating Ductal Carcinoma  Positive  Positive    Negative   \n",
            "332  Infiltrating Lobular Carcinoma  Positive  Positive    Negative   \n",
            "333   Infiltrating Ductal Carcinoma  Positive  Positive    Negative   \n",
            "\n",
            "     Patient_Status  \n",
            "0               1.0  \n",
            "1               0.0  \n",
            "2               1.0  \n",
            "3               1.0  \n",
            "4               1.0  \n",
            "..              ...  \n",
            "329             1.0  \n",
            "330             1.0  \n",
            "331             0.0  \n",
            "332             1.0  \n",
            "333             0.0  \n",
            "\n",
            "[334 rows x 12 columns]\n"
          ]
        }
      ]
    },
    {
      "cell_type": "code",
      "source": [
        "a=a.drop('Histology',axis=1)\n",
        "print(a)"
      ],
      "metadata": {
        "colab": {
          "base_uri": "https://localhost:8080/"
        },
        "id": "VjT_dR9KoQei",
        "outputId": "75fe2fbc-d72e-4374-93fe-a011020dcdaa"
      },
      "execution_count": null,
      "outputs": [
        {
          "output_type": "stream",
          "name": "stdout",
          "text": [
            "     Age  Gender  Protein1  Protein2  Protein3  Protein4 Tumour_Stage  \\\n",
            "0     42  FEMALE  0.952560   2.15000  0.007972 -0.048340           II   \n",
            "1     54  FEMALE  0.000000   1.38020 -0.498030 -0.507320           II   \n",
            "2     63  FEMALE -0.523030   1.76400 -0.370190  0.010815           II   \n",
            "3     78  FEMALE -0.876180   0.12943 -0.370380  0.132190            I   \n",
            "4     42  FEMALE  0.226110   1.74910 -0.543970 -0.390210           II   \n",
            "..   ...     ...       ...       ...       ...       ...          ...   \n",
            "329   59  FEMALE  0.024598   1.40050  0.024751  0.280320           II   \n",
            "330   41  FEMALE  0.100120  -0.46547  0.472370 -0.523870            I   \n",
            "331   54  FEMALE  0.753820   1.64250 -0.332850  0.857860           II   \n",
            "332   74  FEMALE  0.972510   1.42680 -0.366570 -0.107820           II   \n",
            "333   66  FEMALE  0.286380   1.39980  0.318830  0.836050           II   \n",
            "\n",
            "    ER status PR status HER2 status  Patient_Status  \n",
            "0    Positive  Positive    Negative             1.0  \n",
            "1    Positive  Positive    Negative             0.0  \n",
            "2    Positive  Positive    Negative             1.0  \n",
            "3    Positive  Positive    Negative             1.0  \n",
            "4    Positive  Positive    Positive             1.0  \n",
            "..        ...       ...         ...             ...  \n",
            "329  Positive  Positive    Positive             1.0  \n",
            "330  Positive  Positive    Positive             1.0  \n",
            "331  Positive  Positive    Negative             0.0  \n",
            "332  Positive  Positive    Negative             1.0  \n",
            "333  Positive  Positive    Negative             0.0  \n",
            "\n",
            "[334 rows x 11 columns]\n"
          ]
        }
      ]
    },
    {
      "cell_type": "code",
      "source": [
        "def convert_to_binary(value):\n",
        "  if value==\"Positive\":\n",
        "    return 1\n",
        "  elif value==\"Negative\":\n",
        "    return 0\n",
        "  else:\n",
        "    return value\n",
        "a['HER2 status']=a['HER2 status'].map(convert_to_binary)\n",
        "print(a)"
      ],
      "metadata": {
        "colab": {
          "base_uri": "https://localhost:8080/"
        },
        "id": "gCX4rYRrpi2K",
        "outputId": "3ceb2d11-e125-4804-8965-0230f137af0a"
      },
      "execution_count": null,
      "outputs": [
        {
          "output_type": "stream",
          "name": "stdout",
          "text": [
            "     Age  Gender  Protein1  Protein2  Protein3  Protein4 Tumour_Stage  \\\n",
            "0     42  FEMALE  0.952560   2.15000  0.007972 -0.048340           II   \n",
            "1     54  FEMALE  0.000000   1.38020 -0.498030 -0.507320           II   \n",
            "2     63  FEMALE -0.523030   1.76400 -0.370190  0.010815           II   \n",
            "3     78  FEMALE -0.876180   0.12943 -0.370380  0.132190            I   \n",
            "4     42  FEMALE  0.226110   1.74910 -0.543970 -0.390210           II   \n",
            "..   ...     ...       ...       ...       ...       ...          ...   \n",
            "329   59  FEMALE  0.024598   1.40050  0.024751  0.280320           II   \n",
            "330   41  FEMALE  0.100120  -0.46547  0.472370 -0.523870            I   \n",
            "331   54  FEMALE  0.753820   1.64250 -0.332850  0.857860           II   \n",
            "332   74  FEMALE  0.972510   1.42680 -0.366570 -0.107820           II   \n",
            "333   66  FEMALE  0.286380   1.39980  0.318830  0.836050           II   \n",
            "\n",
            "    ER status PR status  HER2 status  Patient_Status  \n",
            "0    Positive  Positive            0             1.0  \n",
            "1    Positive  Positive            0             0.0  \n",
            "2    Positive  Positive            0             1.0  \n",
            "3    Positive  Positive            0             1.0  \n",
            "4    Positive  Positive            1             1.0  \n",
            "..        ...       ...          ...             ...  \n",
            "329  Positive  Positive            1             1.0  \n",
            "330  Positive  Positive            1             1.0  \n",
            "331  Positive  Positive            0             0.0  \n",
            "332  Positive  Positive            0             1.0  \n",
            "333  Positive  Positive            0             0.0  \n",
            "\n",
            "[334 rows x 11 columns]\n"
          ]
        }
      ]
    },
    {
      "cell_type": "code",
      "source": [
        "a['ER status']=a['ER status'].map(convert_to_binary)\n",
        "a['PR status']=a['PR status'].map(convert_to_binary)\n",
        "print(a)"
      ],
      "metadata": {
        "colab": {
          "base_uri": "https://localhost:8080/"
        },
        "id": "hhvTOvzBqiWj",
        "outputId": "68a7a799-9af5-4efc-c237-9831024f8649"
      },
      "execution_count": null,
      "outputs": [
        {
          "output_type": "stream",
          "name": "stdout",
          "text": [
            "     Age  Gender  Protein1  Protein2  Protein3  Protein4 Tumour_Stage  \\\n",
            "0     42  FEMALE  0.952560   2.15000  0.007972 -0.048340           II   \n",
            "1     54  FEMALE  0.000000   1.38020 -0.498030 -0.507320           II   \n",
            "2     63  FEMALE -0.523030   1.76400 -0.370190  0.010815           II   \n",
            "3     78  FEMALE -0.876180   0.12943 -0.370380  0.132190            I   \n",
            "4     42  FEMALE  0.226110   1.74910 -0.543970 -0.390210           II   \n",
            "..   ...     ...       ...       ...       ...       ...          ...   \n",
            "329   59  FEMALE  0.024598   1.40050  0.024751  0.280320           II   \n",
            "330   41  FEMALE  0.100120  -0.46547  0.472370 -0.523870            I   \n",
            "331   54  FEMALE  0.753820   1.64250 -0.332850  0.857860           II   \n",
            "332   74  FEMALE  0.972510   1.42680 -0.366570 -0.107820           II   \n",
            "333   66  FEMALE  0.286380   1.39980  0.318830  0.836050           II   \n",
            "\n",
            "     ER status  PR status  HER2 status  Patient_Status  \n",
            "0            1          1            0             1.0  \n",
            "1            1          1            0             0.0  \n",
            "2            1          1            0             1.0  \n",
            "3            1          1            0             1.0  \n",
            "4            1          1            1             1.0  \n",
            "..         ...        ...          ...             ...  \n",
            "329          1          1            1             1.0  \n",
            "330          1          1            1             1.0  \n",
            "331          1          1            0             0.0  \n",
            "332          1          1            0             1.0  \n",
            "333          1          1            0             0.0  \n",
            "\n",
            "[334 rows x 11 columns]\n"
          ]
        }
      ]
    },
    {
      "cell_type": "code",
      "source": [
        "def convert_to_binary(value):\n",
        "  if value==\"I\":\n",
        "    return 1\n",
        "  else:\n",
        "    return 0\n",
        "a['Tumour_Stage']=a['Tumour_Stage'].apply(convert_to_binary)\n",
        "print(a)"
      ],
      "metadata": {
        "colab": {
          "base_uri": "https://localhost:8080/"
        },
        "id": "_MCFLEmFrBtt",
        "outputId": "61c3d99b-5d17-4454-8d41-1339aef47684"
      },
      "execution_count": null,
      "outputs": [
        {
          "output_type": "stream",
          "name": "stdout",
          "text": [
            "     Age  Gender  Protein1  Protein2  Protein3  Protein4  Tumour_Stage  \\\n",
            "0     42  FEMALE  0.952560   2.15000  0.007972 -0.048340             0   \n",
            "1     54  FEMALE  0.000000   1.38020 -0.498030 -0.507320             0   \n",
            "2     63  FEMALE -0.523030   1.76400 -0.370190  0.010815             0   \n",
            "3     78  FEMALE -0.876180   0.12943 -0.370380  0.132190             1   \n",
            "4     42  FEMALE  0.226110   1.74910 -0.543970 -0.390210             0   \n",
            "..   ...     ...       ...       ...       ...       ...           ...   \n",
            "329   59  FEMALE  0.024598   1.40050  0.024751  0.280320             0   \n",
            "330   41  FEMALE  0.100120  -0.46547  0.472370 -0.523870             1   \n",
            "331   54  FEMALE  0.753820   1.64250 -0.332850  0.857860             0   \n",
            "332   74  FEMALE  0.972510   1.42680 -0.366570 -0.107820             0   \n",
            "333   66  FEMALE  0.286380   1.39980  0.318830  0.836050             0   \n",
            "\n",
            "     ER status  PR status  HER2 status  Patient_Status  \n",
            "0            1          1            0             1.0  \n",
            "1            1          1            0             0.0  \n",
            "2            1          1            0             1.0  \n",
            "3            1          1            0             1.0  \n",
            "4            1          1            1             1.0  \n",
            "..         ...        ...          ...             ...  \n",
            "329          1          1            1             1.0  \n",
            "330          1          1            1             1.0  \n",
            "331          1          1            0             0.0  \n",
            "332          1          1            0             1.0  \n",
            "333          1          1            0             0.0  \n",
            "\n",
            "[334 rows x 11 columns]\n"
          ]
        }
      ]
    },
    {
      "cell_type": "code",
      "source": [
        "def convert_to_binary(value):\n",
        "  if value==\"FEMALE\":\n",
        "    return 1\n",
        "  elif value==\"MALE\":\n",
        "    return 0\n",
        "  else:\n",
        "    return value\n",
        "a['Gender']=a['Gender'].map(convert_to_binary)\n",
        "print(a)"
      ],
      "metadata": {
        "colab": {
          "base_uri": "https://localhost:8080/"
        },
        "id": "-YEJ12BZu4o7",
        "outputId": "f8df41cd-6d13-469c-e6ad-18595288fcf9"
      },
      "execution_count": null,
      "outputs": [
        {
          "output_type": "stream",
          "name": "stdout",
          "text": [
            "     Age  Gender  Protein1  Protein2  Protein3  Protein4  Tumour_Stage  \\\n",
            "0     42       1  0.952560   2.15000  0.007972 -0.048340             0   \n",
            "1     54       1  0.000000   1.38020 -0.498030 -0.507320             0   \n",
            "2     63       1 -0.523030   1.76400 -0.370190  0.010815             0   \n",
            "3     78       1 -0.876180   0.12943 -0.370380  0.132190             1   \n",
            "4     42       1  0.226110   1.74910 -0.543970 -0.390210             0   \n",
            "..   ...     ...       ...       ...       ...       ...           ...   \n",
            "329   59       1  0.024598   1.40050  0.024751  0.280320             0   \n",
            "330   41       1  0.100120  -0.46547  0.472370 -0.523870             1   \n",
            "331   54       1  0.753820   1.64250 -0.332850  0.857860             0   \n",
            "332   74       1  0.972510   1.42680 -0.366570 -0.107820             0   \n",
            "333   66       1  0.286380   1.39980  0.318830  0.836050             0   \n",
            "\n",
            "     ER status  PR status  HER2 status  Patient_Status  \n",
            "0            1          1            0             1.0  \n",
            "1            1          1            0             0.0  \n",
            "2            1          1            0             1.0  \n",
            "3            1          1            0             1.0  \n",
            "4            1          1            1             1.0  \n",
            "..         ...        ...          ...             ...  \n",
            "329          1          1            1             1.0  \n",
            "330          1          1            1             1.0  \n",
            "331          1          1            0             0.0  \n",
            "332          1          1            0             1.0  \n",
            "333          1          1            0             0.0  \n",
            "\n",
            "[334 rows x 11 columns]\n"
          ]
        }
      ]
    },
    {
      "cell_type": "code",
      "source": [
        "print(a)"
      ],
      "metadata": {
        "colab": {
          "base_uri": "https://localhost:8080/"
        },
        "id": "BsYHaG_7z65E",
        "outputId": "125493c2-5a13-4e67-9793-d4dceeac1236"
      },
      "execution_count": null,
      "outputs": [
        {
          "output_type": "stream",
          "name": "stdout",
          "text": [
            "     Age  Gender  Protein1  Protein2  Protein3  Protein4  Tumour_Stage  \\\n",
            "0     42       1  0.952560   2.15000  0.007972 -0.048340             0   \n",
            "1     54       1  0.000000   1.38020 -0.498030 -0.507320             0   \n",
            "2     63       1 -0.523030   1.76400 -0.370190  0.010815             0   \n",
            "3     78       1 -0.876180   0.12943 -0.370380  0.132190             1   \n",
            "4     42       1  0.226110   1.74910 -0.543970 -0.390210             0   \n",
            "..   ...     ...       ...       ...       ...       ...           ...   \n",
            "329   59       1  0.024598   1.40050  0.024751  0.280320             0   \n",
            "330   41       1  0.100120  -0.46547  0.472370 -0.523870             1   \n",
            "331   54       1  0.753820   1.64250 -0.332850  0.857860             0   \n",
            "332   74       1  0.972510   1.42680 -0.366570 -0.107820             0   \n",
            "333   66       1  0.286380   1.39980  0.318830  0.836050             0   \n",
            "\n",
            "     ER status  PR status  HER2 status  Patient_Status  \n",
            "0            1          1            0             1.0  \n",
            "1            1          1            0             0.0  \n",
            "2            1          1            0             1.0  \n",
            "3            1          1            0             1.0  \n",
            "4            1          1            1             1.0  \n",
            "..         ...        ...          ...             ...  \n",
            "329          1          1            1             1.0  \n",
            "330          1          1            1             1.0  \n",
            "331          1          1            0             0.0  \n",
            "332          1          1            0             1.0  \n",
            "333          1          1            0             0.0  \n",
            "\n",
            "[334 rows x 11 columns]\n"
          ]
        }
      ]
    },
    {
      "cell_type": "code",
      "source": [
        "x=a['Patient_Status']\n",
        "y=a.drop('Patient_Status',axis=1)\n",
        "print(y)"
      ],
      "metadata": {
        "colab": {
          "base_uri": "https://localhost:8080/"
        },
        "id": "A5dvMcgm0uKp",
        "outputId": "5cbd0e8d-b8ac-44f3-e5d3-040107cd2282"
      },
      "execution_count": null,
      "outputs": [
        {
          "output_type": "stream",
          "name": "stdout",
          "text": [
            "     Age  Gender  Protein1  Protein2  Protein3  Protein4  Tumour_Stage  \\\n",
            "0     42       1  0.952560   2.15000  0.007972 -0.048340             0   \n",
            "1     54       1  0.000000   1.38020 -0.498030 -0.507320             0   \n",
            "2     63       1 -0.523030   1.76400 -0.370190  0.010815             0   \n",
            "3     78       1 -0.876180   0.12943 -0.370380  0.132190             1   \n",
            "4     42       1  0.226110   1.74910 -0.543970 -0.390210             0   \n",
            "..   ...     ...       ...       ...       ...       ...           ...   \n",
            "329   59       1  0.024598   1.40050  0.024751  0.280320             0   \n",
            "330   41       1  0.100120  -0.46547  0.472370 -0.523870             1   \n",
            "331   54       1  0.753820   1.64250 -0.332850  0.857860             0   \n",
            "332   74       1  0.972510   1.42680 -0.366570 -0.107820             0   \n",
            "333   66       1  0.286380   1.39980  0.318830  0.836050             0   \n",
            "\n",
            "     ER status  PR status  HER2 status  \n",
            "0            1          1            0  \n",
            "1            1          1            0  \n",
            "2            1          1            0  \n",
            "3            1          1            0  \n",
            "4            1          1            1  \n",
            "..         ...        ...          ...  \n",
            "329          1          1            1  \n",
            "330          1          1            1  \n",
            "331          1          1            0  \n",
            "332          1          1            0  \n",
            "333          1          1            0  \n",
            "\n",
            "[334 rows x 10 columns]\n"
          ]
        }
      ]
    },
    {
      "cell_type": "code",
      "source": [
        "from sklearn.model_selection import train_test_split\n",
        "y_train,y_test,x_train,x_test=train_test_split(y,x,test_size=0.2,random_state=42)\n",
        "print(y_train)\n",
        "print(y_test)\n",
        "print(x_train)\n",
        "print(x_test)"
      ],
      "metadata": {
        "colab": {
          "base_uri": "https://localhost:8080/"
        },
        "id": "Kw87TbO50546",
        "outputId": "1f633641-e163-4949-96e7-cade0d7a2cd4"
      },
      "execution_count": null,
      "outputs": [
        {
          "output_type": "stream",
          "name": "stdout",
          "text": [
            "     Age  Gender  Protein1  Protein2  Protein3  Protein4  Tumour_Stage  \\\n",
            "224   38       1 -0.268450   0.19515 -1.024700  0.101720             0   \n",
            "78    77       1 -0.298700  -0.16129  0.460720 -0.396660             0   \n",
            "295   47       1 -0.190060   1.97790 -0.007615  0.035325             0   \n",
            "17    63       1  0.052728   0.72210 -0.308650 -0.531290             0   \n",
            "24    70       1  0.700290   0.97347 -0.296450  0.105510             1   \n",
            "..   ...     ...       ...       ...       ...       ...           ...   \n",
            "188   44       1 -0.278840   2.16880 -0.462330  0.272200             0   \n",
            "71    45       1 -0.711630   1.69240 -0.800760  0.794400             0   \n",
            "106   49       1  0.061643   1.31490 -0.099357  0.754410             0   \n",
            "270   79       1 -0.482690  -0.31677  0.471580  0.347440             0   \n",
            "102   59       1  0.359140   1.18520 -0.423490  0.415940             0   \n",
            "\n",
            "     ER status  PR status  HER2 status  \n",
            "224          1          1            0  \n",
            "78           1          1            0  \n",
            "295          1          1            0  \n",
            "17           1          1            0  \n",
            "24           1          1            0  \n",
            "..         ...        ...          ...  \n",
            "188          1          1            0  \n",
            "71           1          1            0  \n",
            "106          1          1            0  \n",
            "270          1          1            1  \n",
            "102          1          1            0  \n",
            "\n",
            "[267 rows x 10 columns]\n",
            "     Age  Gender  Protein1  Protein2  Protein3  Protein4  Tumour_Stage  \\\n",
            "25    76       1  0.043546  -0.40171  0.466850   1.04780             0   \n",
            "309   52       1 -0.179320   1.52870 -0.163130   0.83222             1   \n",
            "73    66       1 -1.344100   1.12800 -0.229350  -0.22993             0   \n",
            "195   76       1 -0.245140   0.61407  0.126510   0.39114             1   \n",
            "57    55       1 -0.663420   1.93820 -0.775370  -0.26366             0   \n",
            "..   ...     ...       ...       ...       ...       ...           ...   \n",
            "280   57       1 -0.213780  -0.62814  1.022600   0.20244             0   \n",
            "3     78       1 -0.876180   0.12943 -0.370380   0.13219             1   \n",
            "77    59       1  0.276410  -0.87612  1.298000  -0.68664             0   \n",
            "311   42       1  0.172950   1.29660 -0.856770  -0.23695             0   \n",
            "60    56       1 -0.675420   0.26937 -0.086603   1.07140             0   \n",
            "\n",
            "     ER status  PR status  HER2 status  \n",
            "25           1          1            0  \n",
            "309          1          1            0  \n",
            "73           1          1            0  \n",
            "195          1          1            0  \n",
            "57           1          1            0  \n",
            "..         ...        ...          ...  \n",
            "280          1          1            1  \n",
            "3            1          1            0  \n",
            "77           1          1            0  \n",
            "311          1          1            0  \n",
            "60           1          1            0  \n",
            "\n",
            "[67 rows x 10 columns]\n",
            "224    1.0\n",
            "78     1.0\n",
            "295    0.0\n",
            "17     0.0\n",
            "24     1.0\n",
            "      ... \n",
            "188    NaN\n",
            "71     1.0\n",
            "106    1.0\n",
            "270    1.0\n",
            "102    1.0\n",
            "Name: Patient_Status, Length: 267, dtype: float64\n",
            "25     1.0\n",
            "309    1.0\n",
            "73     1.0\n",
            "195    1.0\n",
            "57     1.0\n",
            "      ... \n",
            "280    1.0\n",
            "3      1.0\n",
            "77     1.0\n",
            "311    1.0\n",
            "60     NaN\n",
            "Name: Patient_Status, Length: 67, dtype: float64\n"
          ]
        }
      ]
    },
    {
      "cell_type": "code",
      "source": [
        "import pandas as pd\n",
        "from sklearn.model_selection import train_test_split\n",
        "a=pd.read_csv('/content/breast_cancer_survival.csv')\n",
        "b=a.fillna(0)\n",
        "l=b.iloc[0:334,14:15]\n",
        "a['Patient_Status']=a['Patient_Status'].replace({'Alive': 0, 'Dead': 1})\n",
        "x= a.drop(\"Patient_Status\", axis='columns')\n",
        "k=a.drop(\"Histology\",axis='columns')\n",
        "k=k.drop(\"Surgery_type\",axis='columns')\n",
        "k=k.drop(\"Date_of_Surgery\",axis='columns')\n",
        "k=k.drop(\"Date_of_Last_Visit\",axis='columns')\n",
        "k=k.drop(\"Tumour_Stage\",axis='columns')\n",
        "k=k.drop(\"Age\",axis='columns')\n",
        "k=k.drop(\"Gender\",axis='columns')\n",
        "k=k.drop(\"ER status\",axis='columns')\n",
        "k=k.drop(\"PR status\",axis='columns')\n",
        "k=k.drop(\"HER2 status\",axis='columns')\n",
        "k['Patient_Status']=k['Patient_Status'].replace({'Alive': 1, 'Dead': 0})\n",
        "y=k[\"Patient_Status\"]\n",
        "x= k.drop(\"Patient_Status\", axis='columns')\n",
        "print(k)"
      ],
      "metadata": {
        "colab": {
          "base_uri": "https://localhost:8080/"
        },
        "id": "5fxG1EV85JAX",
        "outputId": "135a2699-2d07-41ac-dd7a-1eac1fb0ae3b"
      },
      "execution_count": 3,
      "outputs": [
        {
          "output_type": "stream",
          "name": "stdout",
          "text": [
            "     Protein1  Protein2  Protein3  Protein4  Patient_Status\n",
            "0    0.952560   2.15000  0.007972 -0.048340             0.0\n",
            "1    0.000000   1.38020 -0.498030 -0.507320             1.0\n",
            "2   -0.523030   1.76400 -0.370190  0.010815             0.0\n",
            "3   -0.876180   0.12943 -0.370380  0.132190             0.0\n",
            "4    0.226110   1.74910 -0.543970 -0.390210             0.0\n",
            "..        ...       ...       ...       ...             ...\n",
            "329  0.024598   1.40050  0.024751  0.280320             0.0\n",
            "330  0.100120  -0.46547  0.472370 -0.523870             0.0\n",
            "331  0.753820   1.64250 -0.332850  0.857860             1.0\n",
            "332  0.972510   1.42680 -0.366570 -0.107820             0.0\n",
            "333  0.286380   1.39980  0.318830  0.836050             1.0\n",
            "\n",
            "[334 rows x 5 columns]\n"
          ]
        }
      ]
    }
  ]
}